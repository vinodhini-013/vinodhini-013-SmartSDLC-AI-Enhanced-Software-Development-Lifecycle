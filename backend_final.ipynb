{
  "nbformat": 4,
  "nbformat_minor": 0,
  "metadata": {
    "colab": {
      "provenance": [],
      "gpuType": "T4"
    },
    "kernelspec": {
      "name": "python3",
      "display_name": "Python 3"
    },
    "language_info": {
      "name": "python"
    },
    "accelerator": "GPU"
  },
  "cells": [
    {
      "cell_type": "code",
      "execution_count": null,
      "metadata": {
        "colab": {
          "base_uri": "https://localhost:8080/"
        },
        "id": "nhljtwTSl5_C",
        "outputId": "3f4e798f-669b-4293-d4d1-cbe6860105e3"
      },
      "outputs": [
        {
          "output_type": "stream",
          "name": "stdout",
          "text": [
            "Requirement already satisfied: flask in /usr/local/lib/python3.11/dist-packages (3.1.1)\n",
            "Collecting flask-cors\n",
            "  Downloading flask_cors-6.0.1-py3-none-any.whl.metadata (5.3 kB)\n",
            "Requirement already satisfied: requests in /usr/local/lib/python3.11/dist-packages (2.32.3)\n",
            "Collecting pyngrok\n",
            "  Downloading pyngrok-7.2.11-py3-none-any.whl.metadata (9.4 kB)\n",
            "Requirement already satisfied: blinker>=1.9.0 in /usr/local/lib/python3.11/dist-packages (from flask) (1.9.0)\n",
            "Requirement already satisfied: click>=8.1.3 in /usr/local/lib/python3.11/dist-packages (from flask) (8.2.1)\n",
            "Requirement already satisfied: itsdangerous>=2.2.0 in /usr/local/lib/python3.11/dist-packages (from flask) (2.2.0)\n",
            "Requirement already satisfied: jinja2>=3.1.2 in /usr/local/lib/python3.11/dist-packages (from flask) (3.1.6)\n",
            "Requirement already satisfied: markupsafe>=2.1.1 in /usr/local/lib/python3.11/dist-packages (from flask) (3.0.2)\n",
            "Requirement already satisfied: werkzeug>=3.1.0 in /usr/local/lib/python3.11/dist-packages (from flask) (3.1.3)\n",
            "Requirement already satisfied: charset-normalizer<4,>=2 in /usr/local/lib/python3.11/dist-packages (from requests) (3.4.2)\n",
            "Requirement already satisfied: idna<4,>=2.5 in /usr/local/lib/python3.11/dist-packages (from requests) (3.10)\n",
            "Requirement already satisfied: urllib3<3,>=1.21.1 in /usr/local/lib/python3.11/dist-packages (from requests) (2.4.0)\n",
            "Requirement already satisfied: certifi>=2017.4.17 in /usr/local/lib/python3.11/dist-packages (from requests) (2025.6.15)\n",
            "Requirement already satisfied: PyYAML>=5.1 in /usr/local/lib/python3.11/dist-packages (from pyngrok) (6.0.2)\n",
            "Downloading flask_cors-6.0.1-py3-none-any.whl (13 kB)\n",
            "Downloading pyngrok-7.2.11-py3-none-any.whl (25 kB)\n",
            "Installing collected packages: pyngrok, flask-cors\n",
            "Successfully installed flask-cors-6.0.1 pyngrok-7.2.11\n"
          ]
        }
      ],
      "source": [
        "!pip install flask flask-cors requests pyngrok"
      ]
    },
    {
      "cell_type": "code",
      "source": [
        "from pyngrok import ngrok\n",
        "ngrok.set_auth_token(\"ngrok tocken\")"
      ],
      "metadata": {
        "colab": {
          "base_uri": "https://localhost:8080/"
        },
        "id": "qhDFU3KPrcju",
        "outputId": "80958783-a993-4b3b-c822-8f187e1f97c9"
      },
      "execution_count": null,
      "outputs": [
        {
          "output_type": "stream",
          "name": "stdout",
          "text": []
        }
      ]
    },
    {
      "cell_type": "code",
      "source": [
        "!pip install flask flask-cors requests pyngrok\n",
        "from flask import Flask, request, jsonify\n",
        "from flask_cors import CORS\n",
        "import requests\n",
        "from pyngrok import ngrok\n",
        "\n",
        "# ==========================\n",
        "# Hugging Face Setup\n",
        "# ==========================\n",
        "HF_TOKEN = \"hugging face token\"\n",
        "API_URL = \"https://api-inference.huggingface.co/models/ibm-granite/granite-3.3-2b-instruct\"\n",
        "HEADERS = {\"Authorization\": f\"Bearer {HF_TOKEN}\"}\n",
        "\n",
        "app = Flask(_name_)\n",
        "CORS(app)\n",
        "\n",
        "@app.route(\"/api/chat\", methods=[\"POST\"])\n",
        "def chat():\n",
        "    data = request.json\n",
        "    user_message = data.get(\"message\", \"\")\n",
        "    payload = {\"inputs\": user_message}\n",
        "    response = requests.post(API_URL, headers=HEADERS, json=payload)\n",
        "\n",
        "    if response.ok:\n",
        "        result = response.json()\n",
        "        reply = result[0][\"generated_text\"]\n",
        "    else:\n",
        "        reply = \"Error: Could not fetch response.\"\n",
        "    return jsonify({\"response\": reply})\n",
        "\n",
        "\n",
        "# ==========================\n",
        "# START NGROK\n",
        "# ==========================\n",
        "ngrok.set_auth_token(\"ngrok token\")  # 👈 Paste your actual Auth Token\n",
        "public_url = ngrok.connect(5000)\n",
        "print(f\"✅ Public URL: {public_url}\")\n",
        "\n",
        "# ==========================\n",
        "# START FLASK\n",
        "# ==========================\n",
        "from threading import Thread\n",
        "def run_app():\n",
        "    app.run(port=5000)\n",
        "\n",
        "# Run the app in the background\n",
        "Thread(target=run_app).start()"
      ],
      "metadata": {
        "id": "R5c8XAGmrngV"
      },
      "execution_count": null,
      "outputs": []
    }
  ]
}